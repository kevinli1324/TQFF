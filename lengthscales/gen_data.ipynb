{
 "cells": [
  {
   "cell_type": "code",
   "execution_count": 3,
   "id": "f46235ea-f0eb-495b-bb25-c0bce0b3813f",
   "metadata": {},
   "outputs": [],
   "source": [
    "import torch\n",
    "from gpytorch.kernels import RBFKernel\n",
    "import pandas as pd\n",
    "import numpy as np\n",
    "import pickle\n",
    "from gpytorch.distributions import MultivariateNormal\n",
    "from linear_operator.operators import DiagLinearOperator, LowRankRootLinearOperator, CholLinearOperator\n",
    "def safe_inverse(psd):\n",
    "    return CholLinearOperator(psd_safe_cholesky(psd, jitter = 1e-4)).inverse().to_dense()\n",
    "\n",
    "def nll(Ytest, mu, var):\n",
    "    Ytest = Ytest.cpu().numpy()\n",
    "    nll = .5*np.log(2*np.pi*var) + np.square(Ytest - mu)/(2*var)\n",
    "    return nll.mean()\n",
    "\n",
    "\n",
    "def gen_data(ls, ntrain = 10000):\n",
    "    X = torch.rand((ntrain + 2000, 2)).cuda()\n",
    "\n",
    "    what = RBFKernel().cuda()\n",
    "    what._set_lengthscale(torch.tensor([[ls]]).cuda())\n",
    "    covar = what(X, X) + DiagLinearOperator(torch.ones(X.shape[0]).cuda())*1e-3\n",
    "    dist = MultivariateNormal(torch.zeros(X.shape[0]).cuda(), covar)\n",
    "    Y = dist.sample()\n",
    "    Y = Y + torch.randn(Y.shape).cuda()*.0225\n",
    "    Xtrain, Ytrain = X[:ntrain], Y[:ntrain]\n",
    "    Xtest, Ytest = X[ntrain:], Y[ntrain:]\n",
    "    del covar\n",
    "    del dist\n",
    "    train_covar = what(Xtrain, Xtrain) + DiagLinearOperator(torch.ones(Xtrain.shape[0]).cuda())*1e-3\n",
    "    train_covar = CholLinearOperator(train_covar.cholesky())\n",
    "    pred_covar = what(Xtest, Xtrain).to_dense()\n",
    "    \n",
    "    pred_mu = (pred_covar @train_covar.solve(Ytrain[:, None])).squeeze()\n",
    "    \n",
    "    Ktt =  what(Xtest, Xtest)._diagonal()\n",
    "    var = (Ktt - train_covar.inv_quad_logdet(pred_covar.T, reduce_inv_quad = False)[0]).squeeze() + (.0225)**2 + 1e-4\n",
    "\n",
    "    rmse = (Ytest - pred_mu).square().mean().sqrt()\n",
    "    tnll =  nll(Ytest, pred_mu.detach().cpu().numpy(), var.detach().cpu().numpy())\n",
    "    return 10*Xtrain, Ytrain,10*Xtest, Ytest, (rmse, tnll, pred_mu, var)\n",
    "\n"
   ]
  },
  {
   "cell_type": "code",
   "execution_count": 8,
   "id": "1a740ffd-c987-46cf-9d34-8ad4e17d34e0",
   "metadata": {},
   "outputs": [],
   "source": [
    "ntrain = 10000\n",
    "for i in range(5):\n",
    "    for l in [.05, .025, .01]:\n",
    "        Xtrain, Ytrain, Xtest, Ytest, covar  = gen_data(l, ntrain)\n",
    "\n",
    "        store_list = [Xtrain, Ytrain, Xtest, Ytest, covar]\n",
    "       \n",
    "        with open('{}_{}_{}.pickle'.format(l, i, ntrain), 'wb') as handle:\n",
    "            pickle.dump(store_list, handle, protocol=pickle.HIGHEST_PROTOCOL)\n",
    "        \n"
   ]
  },
  {
   "cell_type": "code",
   "execution_count": 9,
   "id": "03531142-c1db-4608-9e42-167a95679c49",
   "metadata": {},
   "outputs": [
    {
     "name": "stdout",
     "output_type": "stream",
     "text": [
      "-1.0138246\n"
     ]
    }
   ],
   "source": [
    "import pickle\n",
    "with open(\"{}_{}_{}.pickle\".format(.01, 0, 10000), \"rb\") as openfile:\n",
    "    print(pickle.load(openfile)[-1][1])\n"
   ]
  }
 ],
 "metadata": {
  "kernelspec": {
   "display_name": "Python 3 (ipykernel)",
   "language": "python",
   "name": "python3"
  },
  "language_info": {
   "codemirror_mode": {
    "name": "ipython",
    "version": 3
   },
   "file_extension": ".py",
   "mimetype": "text/x-python",
   "name": "python",
   "nbconvert_exporter": "python",
   "pygments_lexer": "ipython3",
   "version": "3.10.12"
  }
 },
 "nbformat": 4,
 "nbformat_minor": 5
}
