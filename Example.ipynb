{
 "cells": [
  {
   "cell_type": "markdown",
   "id": "f4927760-d393-43e3-a1e5-fe59928841b0",
   "metadata": {},
   "source": [
    "# Implementation for the Trignometrically Exact Quadrature Features"
   ]
  },
  {
   "cell_type": "markdown",
   "id": "02f0512e-3422-4da2-9a8a-26c520bfe155",
   "metadata": {},
   "source": [
    "This notebook will describe how to perform GP regression using Trignometrically exact quadrature featues. For convenience, we provide the quadrature weights and nodes for the quadrature rule that is exact for integrals of the form:\n",
    "$$\n",
    "\\int_{-\\pi}^{\\pi} \\exp(-(\\gamma x)^2) f(\\gamma x)\n",
    "$$\n",
    "When $f(x)$ is a cosine polynomial of low enough degree. These rules allows us to apply the fourier features method for the Square Expnential/Gaussian Kernel examine in the paper. Quadrature rules for other kernels that satisfy assumption one in the paper can be derived via the Golub-Welsh algorithm specified in the appendix. The pickle files in the folder \"quad_weights\" contain the weights for $\\gamma = .85, 1, 1.15, 1.25$. \n",
    "\n",
    "We demonstrate how to run our method below. First we write a function to sample from a GP defined on 2 dimensions with RBF Kernel."
   ]
  },
  {
   "cell_type": "code",
   "execution_count": 166,
   "id": "c7ca1606-ff00-4a47-9ab2-d104e9a19772",
   "metadata": {},
   "outputs": [],
   "source": [
    "from model import *\n",
    "import pandas as pd\n",
    "from gpytorch.kernels import RBFKernel\n",
    "\n",
    "#define function to generate data \n",
    "def gen_data(ls, ntrain = 10000):\n",
    "    X = torch.rand((ntrain + 2000, 2)).cuda()\n",
    "\n",
    "    what = RBFKernel().cuda()\n",
    "    what._set_lengthscale(torch.tensor([[ls]]).cuda())\n",
    "    covar = what(X, X) + DiagLinearOperator(torch.ones(X.shape[0]).cuda())*1e-3\n",
    "    dist = MultivariateNormal(torch.zeros(X.shape[0]).cuda(), covar)\n",
    "    Y = dist.sample()\n",
    "    Y = Y + torch.randn(Y.shape).cuda()*.0225\n",
    "    Xtrain, Ytrain = X[:ntrain], Y[:ntrain]\n",
    "    Xtest, Ytest = X[ntrain:], Y[ntrain:]\n",
    "    del covar\n",
    "    del dist\n",
    "    return 10*Xtrain, Ytrain, 10*Xtest, Ytest\n",
    "\n",
    "Xtrain, Ytrain, Xtest, Ytest  = gen_data(.05, 20000)\n",
    "\n"
   ]
  },
  {
   "cell_type": "markdown",
   "id": "11bea117-1393-41ca-ac0b-225e4022225d",
   "metadata": {},
   "source": [
    "We can get the nodes and the weights of the quadrature methods using the method below."
   ]
  },
  {
   "cell_type": "code",
   "execution_count": 167,
   "id": "8294decd-8d43-4db1-a9d5-35463567ed28",
   "metadata": {},
   "outputs": [
    {
     "name": "stdout",
     "output_type": "stream",
     "text": [
      "torch.Size([288, 2])\n",
      "torch.Size([288])\n"
     ]
    }
   ],
   "source": [
    "# get weights #\n",
    "#methods include \"trig\"-trignometric quadrature features, \"gl\" - Gauss Legendre, \"gh\" - \"gauss hermite\", \"rff\" - random fourier features\n",
    "# for quadrature methods $n$ indicates the degree of exactness in each dimension\n",
    "# gamma supported for gamma = .85, 1, 1.15, 1.25\n",
    "nodes, weights = nodes_weights(method = \"trig\", n = 12, d = 2, gamma = 1.15)\n",
    "print(nodes.shape)\n",
    "print(weights.shape)"
   ]
  },
  {
   "cell_type": "markdown",
   "id": "78f1371b-fd59-4776-ab08-2e5225b6e092",
   "metadata": {},
   "source": [
    "Define the and fit the GP:"
   ]
  },
  {
   "cell_type": "code",
   "execution_count": 168,
   "id": "e83bc670-be78-4d69-a909-075ec9190b78",
   "metadata": {},
   "outputs": [
    {
     "name": "stderr",
     "output_type": "stream",
     "text": [
      "Epoch: 100%|██████████| 1000/1000 [00:10<00:00, 99.28it/s, loss=-2.25] \n"
     ]
    }
   ],
   "source": [
    "gp = quadGP(nodes = nodes, weights = weights, num_c = 1, dtype = torch.float32, jitter = 1e-6)\n",
    "gp.fit(Xtrain[:, None, :], Ytrain, iters = 1000, gl = False, rff = False,lr = .0025, update = 25)\n",
    "\n"
   ]
  },
  {
   "cell_type": "markdown",
   "id": "b6a05323-07cc-4cad-a43d-3fca7fb22ffb",
   "metadata": {},
   "source": [
    "And make predictions"
   ]
  },
  {
   "cell_type": "code",
   "execution_count": 169,
   "id": "0c62f41d-cc7c-4b47-a573-77fb5578b20f",
   "metadata": {},
   "outputs": [
    {
     "name": "stdout",
     "output_type": "stream",
     "text": [
      "The Test NLL is -2.35191011428833\n"
     ]
    }
   ],
   "source": [
    "# get the predictive mean and variances of the GP\n",
    "mu, var = gp.bpred(Xtest[:, None, :], Xtrain[:, None, :], Ytrain, gl = False, rff = False)\n",
    "print(\"The Test NLL is {}\".format(nll(Ytest, mu, var)))"
   ]
  },
  {
   "cell_type": "markdown",
   "id": "9946cb96-1a5a-41b7-9e29-8e637962f298",
   "metadata": {},
   "source": [
    "We can do the same thing for gauss legendre features, except we have to set gl = True"
   ]
  },
  {
   "cell_type": "code",
   "execution_count": 170,
   "id": "88b935c8-6fad-47ad-854b-5e15e40d8038",
   "metadata": {},
   "outputs": [
    {
     "name": "stderr",
     "output_type": "stream",
     "text": [
      "Epoch: 100%|██████████| 1000/1000 [00:09<00:00, 104.01it/s, loss=0.691]"
     ]
    },
    {
     "name": "stdout",
     "output_type": "stream",
     "text": [
      "The Test NLL is 0.6923612356185913\n"
     ]
    },
    {
     "name": "stderr",
     "output_type": "stream",
     "text": [
      "\n"
     ]
    }
   ],
   "source": [
    "nodes, weights = nodes_weights(method = \"gl\", n = 12, d = 2, gamma = 1.15)\n",
    "gp = quadGP(nodes = nodes, weights = weights, num_c = 1, dtype = torch.float32, jitter = 1e-6)\n",
    "gp.fit(Xtrain[:, None, :], Ytrain, iters = 1000, gl = True, rff = False,lr = .0025, update = 25)\n",
    "mu, var = gp.bpred(Xtest[:, None, :], Xtrain[:, None, :], Ytrain, gl = True, rff = False)\n",
    "print(\"The Test NLL is {}\".format(nll(Ytest, mu, var)))"
   ]
  }
 ],
 "metadata": {
  "kernelspec": {
   "display_name": "Python 3 (ipykernel)",
   "language": "python",
   "name": "python3"
  },
  "language_info": {
   "codemirror_mode": {
    "name": "ipython",
    "version": 3
   },
   "file_extension": ".py",
   "mimetype": "text/x-python",
   "name": "python",
   "nbconvert_exporter": "python",
   "pygments_lexer": "ipython3",
   "version": "3.10.12"
  }
 },
 "nbformat": 4,
 "nbformat_minor": 5
}
